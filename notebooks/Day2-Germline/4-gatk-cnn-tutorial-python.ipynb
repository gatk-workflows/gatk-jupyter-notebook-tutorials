{
 "cells": [
  {
   "cell_type": "markdown",
   "metadata": {},
   "source": [
    "# GATK Tutorial | Convolutional Neural Network (CNN) Filtering | March 2019"
   ]
  },
  {
   "cell_type": "markdown",
   "metadata": {},
   "source": [
    "\n",
    "This GATK tutorial corresponds to a section of the GATK Workshop _2b. Germline Convolutional Neural Network (CNN) Filtering Tutorial_ worksheet. The goal is to become familiar with using Convolutional Neural Net to filter annotated variants. The notebook illustrates the following steps. \n",
    "\n",
    "- Use GATK to annotate a VCF with scores from a Convolutional Neural Network (CNN)\n",
    "- Generate 1D and 2D CNN models\n",
    "- Apply tranche filtering to VCF based on scores from an annotation in the INFO field  \n",
    "- Calculate concordance metrics\n",
    "\n",
    "### First, make sure the notebook is using a Python 3 kernel in the top right corner.\n",
    "A kernel is a _computational engine_ that executes the code in the notebook. We use Python 3 in this notebook to execute GATK commands using _Python Magic_ (`!`). Later we will switch to another notebook to do some plotting in R.\n",
    "\n",
    "### How to run this notebook:\n",
    "- **Click to select a gray cell and then pressing SHIFT+ENTER to run the cell.**\n",
    "\n",
    "- **Write results to `/home/jupyter-user/CNN/Output/`. To access the directory, click on the upper-left jupyter icon.**\n",
    "\n",
    "### Enable reading Google bucket data "
   ]
  },
  {
   "cell_type": "code",
   "execution_count": 1,
   "metadata": {},
   "outputs": [
    {
     "name": "stdout",
     "output_type": "stream",
     "text": [
      "gs://gatk-tutorials/workshop_1903/2-germline/CNNScoreVariants/\n",
      "gs://gatk-tutorials/workshop_1903/2-germline/CNNScoreVariants/bams/\n",
      "gs://gatk-tutorials/workshop_1903/2-germline/CNNScoreVariants/references/\n",
      "gs://gatk-tutorials/workshop_1903/2-germline/CNNScoreVariants/vcfs/\n",
      "gs://gcp-public-data--broad-references/hg19/v0/1000G_omni2.5.b37.vcf.gz\n",
      "gs://gcp-public-data--broad-references/hg19/v0/1000G_omni2.5.b37.vcf.gz.tbi\n",
      "gs://gcp-public-data--broad-references/hg19/v0/1000G_phase1.snps.high_confidence.b37.vcf.gz\n",
      "gs://gcp-public-data--broad-references/hg19/v0/1000G_phase1.snps.high_confidence.b37.vcf.gz.tbi\n",
      "gs://gcp-public-data--broad-references/hg19/v0/Axiom_Exome_Plus.genotypes.all_populations.poly.vcf.gz\n",
      "gs://gcp-public-data--broad-references/hg19/v0/Axiom_Exome_Plus.genotypes.all_populations.poly.vcf.gz.tbi\n",
      "gs://gcp-public-data--broad-references/hg19/v0/Homo_sapiens_assembly19.cdna.all.fa\n",
      "gs://gcp-public-data--broad-references/hg19/v0/Homo_sapiens_assembly19.cds.all.fa\n",
      "gs://gcp-public-data--broad-references/hg19/v0/Homo_sapiens_assembly19.cloud_references.json\n",
      "gs://gcp-public-data--broad-references/hg19/v0/Homo_sapiens_assembly19.contam.UD\n",
      "gs://gcp-public-data--broad-references/hg19/v0/Homo_sapiens_assembly19.contam.V\n",
      "gs://gcp-public-data--broad-references/hg19/v0/Homo_sapiens_assembly19.contam.bed\n",
      "gs://gcp-public-data--broad-references/hg19/v0/Homo_sapiens_assembly19.contam.mu\n",
      "gs://gcp-public-data--broad-references/hg19/v0/Homo_sapiens_assembly19.dbsnp135.vcf\n",
      "gs://gcp-public-data--broad-references/hg19/v0/Homo_sapiens_assembly19.dbsnp135.vcf.idx\n",
      "gs://gcp-public-data--broad-references/hg19/v0/Homo_sapiens_assembly19.dbsnp138.vcf\n",
      "gs://gcp-public-data--broad-references/hg19/v0/Homo_sapiens_assembly19.dbsnp138.vcf.idx\n",
      "gs://gcp-public-data--broad-references/hg19/v0/Homo_sapiens_assembly19.delly_exclusionRegions.shard0.tsv\n",
      "gs://gcp-public-data--broad-references/hg19/v0/Homo_sapiens_assembly19.delly_exclusionRegions.shard1.tsv\n",
      "gs://gcp-public-data--broad-references/hg19/v0/Homo_sapiens_assembly19.delly_exclusionRegions.shard10.tsv\n",
      "gs://gcp-public-data--broad-references/hg19/v0/Homo_sapiens_assembly19.delly_exclusionRegions.shard11.tsv\n",
      "gs://gcp-public-data--broad-references/hg19/v0/Homo_sapiens_assembly19.delly_exclusionRegions.shard2.tsv\n",
      "gs://gcp-public-data--broad-references/hg19/v0/Homo_sapiens_assembly19.delly_exclusionRegions.shard3.tsv\n",
      "gs://gcp-public-data--broad-references/hg19/v0/Homo_sapiens_assembly19.delly_exclusionRegions.shard4.tsv\n",
      "gs://gcp-public-data--broad-references/hg19/v0/Homo_sapiens_assembly19.delly_exclusionRegions.shard5.tsv\n",
      "gs://gcp-public-data--broad-references/hg19/v0/Homo_sapiens_assembly19.delly_exclusionRegions.shard6.tsv\n",
      "gs://gcp-public-data--broad-references/hg19/v0/Homo_sapiens_assembly19.delly_exclusionRegions.shard7.tsv\n",
      "gs://gcp-public-data--broad-references/hg19/v0/Homo_sapiens_assembly19.delly_exclusionRegions.shard8.tsv\n",
      "gs://gcp-public-data--broad-references/hg19/v0/Homo_sapiens_assembly19.delly_exclusionRegions.shard9.tsv\n",
      "gs://gcp-public-data--broad-references/hg19/v0/Homo_sapiens_assembly19.dict\n",
      "gs://gcp-public-data--broad-references/hg19/v0/Homo_sapiens_assembly19.fasta\n",
      "gs://gcp-public-data--broad-references/hg19/v0/Homo_sapiens_assembly19.fasta.64.amb\n",
      "gs://gcp-public-data--broad-references/hg19/v0/Homo_sapiens_assembly19.fasta.64.ann\n",
      "gs://gcp-public-data--broad-references/hg19/v0/Homo_sapiens_assembly19.fasta.64.bwt\n",
      "gs://gcp-public-data--broad-references/hg19/v0/Homo_sapiens_assembly19.fasta.64.pac\n",
      "gs://gcp-public-data--broad-references/hg19/v0/Homo_sapiens_assembly19.fasta.64.sa\n",
      "gs://gcp-public-data--broad-references/hg19/v0/Homo_sapiens_assembly19.fasta.alt\n",
      "gs://gcp-public-data--broad-references/hg19/v0/Homo_sapiens_assembly19.fasta.amb\n",
      "gs://gcp-public-data--broad-references/hg19/v0/Homo_sapiens_assembly19.fasta.ann\n",
      "gs://gcp-public-data--broad-references/hg19/v0/Homo_sapiens_assembly19.fasta.bwt\n",
      "gs://gcp-public-data--broad-references/hg19/v0/Homo_sapiens_assembly19.fasta.fai\n",
      "gs://gcp-public-data--broad-references/hg19/v0/Homo_sapiens_assembly19.fasta.pac\n",
      "gs://gcp-public-data--broad-references/hg19/v0/Homo_sapiens_assembly19.fasta.sa\n",
      "gs://gcp-public-data--broad-references/hg19/v0/Homo_sapiens_assembly19.known_indels_20120518.vcf\n",
      "gs://gcp-public-data--broad-references/hg19/v0/Homo_sapiens_assembly19.known_indels_20120518.vcf.idx\n",
      "gs://gcp-public-data--broad-references/hg19/v0/Homo_sapiens_assembly19.tile_db_header.vcf\n",
      "gs://gcp-public-data--broad-references/hg19/v0/Homo_sapiens_assembly19.vid\n",
      "gs://gcp-public-data--broad-references/hg19/v0/Mills_and_1000G_gold_standard.indels.b37.sites.vcf\n",
      "gs://gcp-public-data--broad-references/hg19/v0/Mills_and_1000G_gold_standard.indels.b37.sites.vcf.idx\n",
      "gs://gcp-public-data--broad-references/hg19/v0/Mills_and_1000G_gold_standard.indels.b37.vcf.gz\n",
      "gs://gcp-public-data--broad-references/hg19/v0/Mills_and_1000G_gold_standard.indels.b37.vcf.gz.tbi\n",
      "gs://gcp-public-data--broad-references/hg19/v0/README\n",
      "gs://gcp-public-data--broad-references/hg19/v0/WholeGenomeShotgunContam.vcf\n",
      "gs://gcp-public-data--broad-references/hg19/v0/WholeGenomeShotgunContam.vcf.idx\n",
      "gs://gcp-public-data--broad-references/hg19/v0/broad_vid.json\n",
      "gs://gcp-public-data--broad-references/hg19/v0/dbsnp_135.b37.vcf.gz\n",
      "gs://gcp-public-data--broad-references/hg19/v0/dbsnp_135.b37.vcf.gz.tbi\n",
      "gs://gcp-public-data--broad-references/hg19/v0/dbsnp_138.b37.vcf.gz\n",
      "gs://gcp-public-data--broad-references/hg19/v0/dbsnp_138.b37.vcf.gz.tbi\n",
      "gs://gcp-public-data--broad-references/hg19/v0/hapmap_3.3.b37.vcf.gz\n",
      "gs://gcp-public-data--broad-references/hg19/v0/hapmap_3.3.b37.vcf.gz.tbi\n",
      "gs://gcp-public-data--broad-references/hg19/v0/wgs_calling_regions.v1.chr20.interval_list\n",
      "gs://gcp-public-data--broad-references/hg19/v0/wgs_calling_regions.v1.interval_list\n",
      "gs://gcp-public-data--broad-references/hg19/v0/wgs_evaluation_regions.v1.interval_list\n",
      "gs://gcp-public-data--broad-references/hg19/v0/TileDB/\n",
      "gs://gcp-public-data--broad-references/hg19/v0/genomestrip/\n"
     ]
    }
   ],
   "source": [
    "!gsutil ls gs://gatk-tutorials/workshop_1903/2-germline/CNNScoreVariants/\n",
    "!gsutil ls gs://gcp-public-data--broad-references/hg19/v0/"
   ]
  },
  {
   "cell_type": "code",
   "execution_count": 2,
   "metadata": {},
   "outputs": [],
   "source": [
    "# If you do not see gs:// URLs listed above, run this cell to install Google Cloud Storage. \n",
    "# Afterwards, restart the kernel with Kernel > Restart.\n",
    "#! pip install google-cloud-storage"
   ]
  },
  {
   "cell_type": "code",
   "execution_count": 5,
   "metadata": {},
   "outputs": [],
   "source": [
    "# Write results to /home/jupyter-user/3-somatic-cna/sandbox/. \n",
    "# To access the directory, click on the upper-left jupyter icon.\n",
    "!mkdir -p /home/jupyter-user/CNN/Output/"
   ]
  },
  {
   "cell_type": "markdown",
   "metadata": {},
   "source": [
    "---\n",
    "## Run the default 1D model on the VCF with CNNScoreVariants\n",
    "\n",
    "CNNScoreVariant is a pre-trained Convolutional Neural Network tool to score variants. This tool uses machine learning to differentiate between good variants and artifacts of the sequencing process, a fairly new approach that is especially effective at correctly calling indels. \n",
    "\n",
    "> **VQSR and Hard-filtering only takes into account variant annotations. However, CNNScoreVariants 1D Model evaluates a) annotations AND b) reference files, +-64bases from the variant. Example: it accounts for regions in the ref file that RE difficult to sequence.**\n",
    "\n",
    "To enable the models to accurately filter and score variants from VCF files, we trained on validated VCFs (from truth models including **SynDip, Genomes in a bottle, and Platinum Genomes**) with unvalidated VCFs aligned to different reference builds (**HG19, HG38**), sequenced on different machines, using different protocols. "
   ]
  },
  {
   "cell_type": "code",
   "execution_count": null,
   "metadata": {
    "scrolled": true
   },
   "outputs": [
    {
     "name": "stdout",
     "output_type": "stream",
     "text": [
      "Using GATK jar /etc/gatk-4.1.0.0/gatk-package-4.1.0.0-local.jar\n",
      "Running:\n",
      "    java -Dsamjdk.use_async_io_read_samtools=false -Dsamjdk.use_async_io_write_samtools=true -Dsamjdk.use_async_io_write_tribble=false -Dsamjdk.compression_level=2 -jar /etc/gatk-4.1.0.0/gatk-package-4.1.0.0-local.jar CNNScoreVariants -V gs://gatk-tutorials/workshop_1903/2-germline/CNNScoreVariants/vcfs/g94982_b37_chr20_1m_15871.vcf.gz -O /home/jupyter-user/CNN/Output/my_1d_cnn_scored.vcf -R gs://gcp-public-data--broad-references/hg19/v0/Homo_sapiens_assembly19.fasta\n",
      "05:28:55.239 INFO  NativeLibraryLoader - Loading libgkl_compression.so from jar:file:/etc/gatk-4.1.0.0/gatk-package-4.1.0.0-local.jar!/com/intel/gkl/native/libgkl_compression.so\n",
      "05:28:56.595 INFO  CNNScoreVariants - ------------------------------------------------------------\n",
      "05:28:56.595 INFO  CNNScoreVariants - The Genome Analysis Toolkit (GATK) v4.1.0.0\n",
      "05:28:56.595 INFO  CNNScoreVariants - For support and documentation go to https://software.broadinstitute.org/gatk/\n",
      "05:28:56.596 INFO  CNNScoreVariants - Executing as jupyter-user@saturn-f5de5fcd-6bbf-4424-8ae2-0ef73d2e5490-m on Linux v4.9.0-8-amd64 amd64\n",
      "05:28:56.596 INFO  CNNScoreVariants - Java runtime: Java HotSpot(TM) 64-Bit Server VM v1.8.0_201-b09\n",
      "05:28:56.596 INFO  CNNScoreVariants - Start Date/Time: March 21, 2019 5:28:54 AM UTC\n",
      "05:28:56.596 INFO  CNNScoreVariants - ------------------------------------------------------------\n",
      "05:28:56.596 INFO  CNNScoreVariants - ------------------------------------------------------------\n",
      "05:28:56.597 INFO  CNNScoreVariants - HTSJDK Version: 2.18.2\n",
      "05:28:56.597 INFO  CNNScoreVariants - Picard Version: 2.18.25\n",
      "05:28:56.597 INFO  CNNScoreVariants - HTSJDK Defaults.COMPRESSION_LEVEL : 2\n",
      "05:28:56.597 INFO  CNNScoreVariants - HTSJDK Defaults.USE_ASYNC_IO_READ_FOR_SAMTOOLS : false\n",
      "05:28:56.597 INFO  CNNScoreVariants - HTSJDK Defaults.USE_ASYNC_IO_WRITE_FOR_SAMTOOLS : true\n",
      "05:28:56.597 INFO  CNNScoreVariants - HTSJDK Defaults.USE_ASYNC_IO_WRITE_FOR_TRIBBLE : false\n",
      "05:28:56.598 INFO  CNNScoreVariants - Deflater: IntelDeflater\n",
      "05:28:56.598 INFO  CNNScoreVariants - Inflater: IntelInflater\n",
      "05:28:56.598 INFO  CNNScoreVariants - GCS max retries/reopens: 20\n",
      "05:28:56.598 INFO  CNNScoreVariants - Requester pays: disabled\n",
      "05:28:56.598 INFO  CNNScoreVariants - Initializing engine\n",
      "05:29:02.651 INFO  FeatureManager - Using codec VCFCodec to read file gs://gatk-tutorials/workshop_1903/2-germline/CNNScoreVariants/vcfs/g94982_b37_chr20_1m_15871.vcf.gz\n",
      "05:29:05.153 INFO  CNNScoreVariants - Done initializing engine\n",
      "05:29:05.154 INFO  NativeLibraryLoader - Loading libgkl_utils.so from jar:file:/etc/gatk-4.1.0.0/gatk-package-4.1.0.0-local.jar!/com/intel/gkl/native/libgkl_utils.so\n",
      "05:29:30.133 INFO  CNNScoreVariants - Using key:CNN_1D for CNN architecture:/tmp/1d_cnn_mix_train_full_bn.635470853536329430.json and weights:/tmp/1d_cnn_mix_train_full_bn.6224138842643266956.hd5\n",
      "05:29:33.179 INFO  ProgressMeter - Starting traversal\n",
      "05:29:33.179 INFO  ProgressMeter -        Current Locus  Elapsed Minutes    Variants Processed  Variants/Minute\n",
      "05:29:33.180 INFO  CNNScoreVariants - Starting first pass through the variants\n",
      "05:29:43.315 INFO  ProgressMeter -           20:2380323              0.2                  3000          17816.5\n",
      "05:29:56.948 INFO  ProgressMeter -           20:4076408              0.4                  6000          15145.8\n",
      "05:30:08.814 INFO  ProgressMeter -           20:5432203              0.6                  9000          15153.6\n",
      "05:30:22.116 INFO  ProgressMeter -           20:7003252              0.8                 12000          14712.8\n",
      "05:30:33.458 INFO  ProgressMeter -           20:8300381              1.0                 14000          13935.2\n",
      "05:30:42.337 INFO  CNNScoreVariants - Finished first pass through the variants\n",
      "05:30:47.740 INFO  CNNScoreVariants - Starting second pass through the variants\n",
      "05:30:48.179 INFO  ProgressMeter -           20:1080814              1.3                 16000          12800.0\n",
      "05:30:48.982 INFO  CNNScoreVariants - No variants filtered by: AllowAllVariantsVariantFilter\n",
      "05:30:48.982 INFO  CNNScoreVariants - No reads filtered by: AllowAllReadsReadFilter\n",
      "05:30:48.982 INFO  ProgressMeter -           20:8840293              1.3                 31742          25124.6\n",
      "05:30:48.982 INFO  ProgressMeter - Traversal complete. Processed 31742 total variants in 1.3 minutes.\n",
      "05:30:48.982 INFO  CNNScoreVariants - Done scoring variants with CNN.\n",
      "05:30:48.996 INFO  CNNScoreVariants - Shutting down engine\n",
      "[March 21, 2019 5:30:48 AM UTC] org.broadinstitute.hellbender.tools.walkers.vqsr.CNNScoreVariants done. Elapsed time: 1.90 minutes.\n",
      "Runtime.totalMemory()=562561024\n"
     ]
    }
   ],
   "source": [
    "!gatk CNNScoreVariants \\\n",
    "-V gs://gatk-tutorials/workshop_1903/2-germline/CNNScoreVariants/vcfs/g94982_b37_chr20_1m_15871.vcf.gz \\\n",
    "-O /home/jupyter-user/CNN/Output/my_1d_cnn_scored.vcf \\\n",
    "-R gs://gcp-public-data--broad-references/hg19/v0/Homo_sapiens_assembly19.fasta"
   ]
  },
  {
   "cell_type": "markdown",
   "metadata": {},
   "source": [
    "The output VCF my_1d_cnn_scored.vcf will now have an INFO  field CNN_1D which corresponds to the score assigned by 1D model.\n"
   ]
  },
  {
   "cell_type": "code",
   "execution_count": null,
   "metadata": {},
   "outputs": [],
   "source": [
    "!cat /home/jupyter-user/CNN/Output/my_1d_cnn_scored.vcf | grep -v '##' | head -5"
   ]
  },
  {
   "cell_type": "markdown",
   "metadata": {},
   "source": [
    "## Apply filters to the VCF based on the CNN_1D score with the FilterVariantTranches tool\n",
    "\n",
    "After scoring, you can filter your VCF by applying a sensitivity threshold with the tool FilterVariantTranches. "
   ]
  },
  {
   "cell_type": "code",
   "execution_count": 8,
   "metadata": {},
   "outputs": [
    {
     "name": "stdout",
     "output_type": "stream",
     "text": [
      "Using GATK jar /etc/gatk-4.1.0.0/gatk-package-4.1.0.0-local.jar\n",
      "Running:\n",
      "    java -Dsamjdk.use_async_io_read_samtools=false -Dsamjdk.use_async_io_write_samtools=true -Dsamjdk.use_async_io_write_tribble=false -Dsamjdk.compression_level=2 -jar /etc/gatk-4.1.0.0/gatk-package-4.1.0.0-local.jar FilterVariantTranches -V /home/jupyter-user/CNN/Output/my_1d_cnn_scored.vcf --resource gs://gcp-public-data--broad-references/hg19/v0/1000G_omni2.5.b37.vcf.gz --resource gs://gcp-public-data--broad-references/hg19/v0/hapmap_3.3.b37.vcf.gz --info-key CNN_1D --snp-tranche 95.9 --indel-tranche 95.0 -O /home/jupyter-user/CNN/Output/my_1d_filtered.vcf --invalidate-previous-filters\n",
      "05:30:53.802 INFO  NativeLibraryLoader - Loading libgkl_compression.so from jar:file:/etc/gatk-4.1.0.0/gatk-package-4.1.0.0-local.jar!/com/intel/gkl/native/libgkl_compression.so\n",
      "05:30:54.005 INFO  FilterVariantTranches - ------------------------------------------------------------\n",
      "05:30:54.005 INFO  FilterVariantTranches - The Genome Analysis Toolkit (GATK) v4.1.0.0\n",
      "05:30:54.006 INFO  FilterVariantTranches - For support and documentation go to https://software.broadinstitute.org/gatk/\n",
      "05:30:54.006 INFO  FilterVariantTranches - Executing as jupyter-user@saturn-f5de5fcd-6bbf-4424-8ae2-0ef73d2e5490-m on Linux v4.9.0-8-amd64 amd64\n",
      "05:30:54.006 INFO  FilterVariantTranches - Java runtime: Java HotSpot(TM) 64-Bit Server VM v1.8.0_201-b09\n",
      "05:30:54.006 INFO  FilterVariantTranches - Start Date/Time: March 21, 2019 5:30:53 AM UTC\n",
      "05:30:54.006 INFO  FilterVariantTranches - ------------------------------------------------------------\n",
      "05:30:54.006 INFO  FilterVariantTranches - ------------------------------------------------------------\n",
      "05:30:54.007 INFO  FilterVariantTranches - HTSJDK Version: 2.18.2\n",
      "05:30:54.007 INFO  FilterVariantTranches - Picard Version: 2.18.25\n",
      "05:30:54.007 INFO  FilterVariantTranches - HTSJDK Defaults.COMPRESSION_LEVEL : 2\n",
      "05:30:54.007 INFO  FilterVariantTranches - HTSJDK Defaults.USE_ASYNC_IO_READ_FOR_SAMTOOLS : false\n",
      "05:30:54.007 INFO  FilterVariantTranches - HTSJDK Defaults.USE_ASYNC_IO_WRITE_FOR_SAMTOOLS : true\n",
      "05:30:54.007 INFO  FilterVariantTranches - HTSJDK Defaults.USE_ASYNC_IO_WRITE_FOR_TRIBBLE : false\n",
      "05:30:54.008 INFO  FilterVariantTranches - Deflater: IntelDeflater\n",
      "05:30:54.008 INFO  FilterVariantTranches - Inflater: IntelInflater\n",
      "05:30:54.008 INFO  FilterVariantTranches - GCS max retries/reopens: 20\n",
      "05:30:54.008 INFO  FilterVariantTranches - Requester pays: disabled\n",
      "05:30:54.008 WARN  FilterVariantTranches - \n",
      "\n",
      "\u001b[1m\u001b[31m   !!!!!!!!!!!!!!!!!!!!!!!!!!!!!!!!!!!!!!!!!!!!!!!!!!!!!!!!!!!!\n",
      "\n",
      "   Warning: FilterVariantTranches is an EXPERIMENTAL tool and should not be used for production\n",
      "\n",
      "   !!!!!!!!!!!!!!!!!!!!!!!!!!!!!!!!!!!!!!!!!!!!!!!!!!!!!!!!!!!!\u001b[0m\n",
      "\n",
      "\n",
      "05:30:54.008 INFO  FilterVariantTranches - Initializing engine\n",
      "05:30:56.248 INFO  FeatureManager - Using codec VCFCodec to read file gs://gcp-public-data--broad-references/hg19/v0/1000G_omni2.5.b37.vcf.gz\n",
      "05:30:59.912 INFO  FeatureManager - Using codec VCFCodec to read file gs://gcp-public-data--broad-references/hg19/v0/hapmap_3.3.b37.vcf.gz\n",
      "05:31:02.639 INFO  FeatureManager - Using codec VCFCodec to read file file:///home/jupyter-user/CNN/Output/my_1d_cnn_scored.vcf\n",
      "05:31:02.697 INFO  FilterVariantTranches - Done initializing engine\n",
      "05:31:02.746 INFO  ProgressMeter - Starting traversal\n",
      "05:31:02.746 INFO  ProgressMeter -        Current Locus  Elapsed Minutes    Variants Processed  Variants/Minute\n",
      "05:31:02.747 INFO  FilterVariantTranches - Starting first pass through the variants\n",
      "05:31:04.538 INFO  FilterVariantTranches - Finished first pass through the variants\n",
      "05:31:04.538 INFO  FilterVariantTranches - Found 12929 SNPs and 2932 indels with INFO score key:CNN_1D.\n",
      "05:31:04.539 INFO  FilterVariantTranches - Found 6669 SNPs and 37 indels in the resources.\n",
      "05:31:04.552 INFO  FilterVariantTranches - Starting second pass through the variants\n",
      "05:31:05.236 INFO  FilterVariantTranches - No variants filtered by: AllowAllVariantsVariantFilter\n",
      "05:31:05.236 INFO  FilterVariantTranches - No reads filtered by: AllowAllReadsReadFilter\n",
      "05:31:05.237 INFO  ProgressMeter -           20:8840293              0.0                 31742         764867.5\n",
      "05:31:05.237 INFO  ProgressMeter - Traversal complete. Processed 31742 total variants in 0.0 minutes.\n",
      "05:31:05.237 INFO  FilterVariantTranches - Filtered 1221 SNPs out of 12929 and filtered 669 indels out of 2932 with INFO score: CNN_1D.\n",
      "05:31:05.249 INFO  FilterVariantTranches - Shutting down engine\n",
      "[March 21, 2019 5:31:05 AM UTC] org.broadinstitute.hellbender.tools.walkers.vqsr.FilterVariantTranches done. Elapsed time: 0.19 minutes.\n",
      "Runtime.totalMemory()=1170735104\n"
     ]
    }
   ],
   "source": [
    "!gatk FilterVariantTranches \\\n",
    "-V /home/jupyter-user/CNN/Output/my_1d_cnn_scored.vcf \\\n",
    "--resource gs://gcp-public-data--broad-references/hg19/v0/1000G_omni2.5.b37.vcf.gz \\\n",
    "--resource gs://gcp-public-data--broad-references/hg19/v0/hapmap_3.3.b37.vcf.gz \\\n",
    "--info-key CNN_1D \\\n",
    "--snp-tranche 95.9 \\\n",
    "--indel-tranche 95.0 \\\n",
    "-O /home/jupyter-user/CNN/Output/my_1d_filtered.vcf \\\n",
    "--invalidate-previous-filters \n"
   ]
  },
  {
   "cell_type": "markdown",
   "metadata": {},
   "source": [
    "> Now you have neural network filtered VCF!"
   ]
  },
  {
   "cell_type": "markdown",
   "metadata": {},
   "source": [
    "## Run the default 2D model on the VCF with CNNScoreVariants"
   ]
  },
  {
   "cell_type": "markdown",
   "metadata": {},
   "source": [
    "The process is quite similar for the 2D model except we will also need to supply a BAM file with DNA read data to CNNScoreVariants.  We tell the tool to use the 2D read processing model with the tensor-type argument.\n",
    "\n",
    "> **CNNScoreVariants 2D Model evaluates a) annotations, b) reference files and c) all variant information from the bam file.**"
   ]
  },
  {
   "cell_type": "code",
   "execution_count": 9,
   "metadata": {},
   "outputs": [
    {
     "name": "stdout",
     "output_type": "stream",
     "text": [
      "Using GATK jar /etc/gatk-4.1.0.0/gatk-package-4.1.0.0-local.jar\n",
      "Running:\n",
      "    java -Dsamjdk.use_async_io_read_samtools=false -Dsamjdk.use_async_io_write_samtools=true -Dsamjdk.use_async_io_write_tribble=false -Dsamjdk.compression_level=2 -jar /etc/gatk-4.1.0.0/gatk-package-4.1.0.0-local.jar CNNScoreVariants -I gs://gatk-tutorials/workshop_1903/2-germline/CNNScoreVariants/bams/g94982_chr20_1m_10m_bamout.bam -V gs://gatk-tutorials/workshop_1903/2-germline/CNNScoreVariants/vcfs/g94982_b37_chr20_1m_895.vcf -R gs://gcp-public-data--broad-references/hg19/v0/Homo_sapiens_assembly19.fasta -O /home/jupyter-user/CNN/Output/my_2d_cnn_scored.vcf --tensor-type read_tensor --transfer-batch-size 8 --inference-batch-size 8\n",
      "05:31:08.815 INFO  NativeLibraryLoader - Loading libgkl_compression.so from jar:file:/etc/gatk-4.1.0.0/gatk-package-4.1.0.0-local.jar!/com/intel/gkl/native/libgkl_compression.so\n",
      "05:31:09.048 INFO  CNNScoreVariants - ------------------------------------------------------------\n",
      "05:31:09.048 INFO  CNNScoreVariants - The Genome Analysis Toolkit (GATK) v4.1.0.0\n",
      "05:31:09.048 INFO  CNNScoreVariants - For support and documentation go to https://software.broadinstitute.org/gatk/\n",
      "05:31:09.048 INFO  CNNScoreVariants - Executing as jupyter-user@saturn-f5de5fcd-6bbf-4424-8ae2-0ef73d2e5490-m on Linux v4.9.0-8-amd64 amd64\n",
      "05:31:09.048 INFO  CNNScoreVariants - Java runtime: Java HotSpot(TM) 64-Bit Server VM v1.8.0_201-b09\n",
      "05:31:09.049 INFO  CNNScoreVariants - Start Date/Time: March 21, 2019 5:31:08 AM UTC\n",
      "05:31:09.049 INFO  CNNScoreVariants - ------------------------------------------------------------\n",
      "05:31:09.049 INFO  CNNScoreVariants - ------------------------------------------------------------\n",
      "05:31:09.049 INFO  CNNScoreVariants - HTSJDK Version: 2.18.2\n",
      "05:31:09.049 INFO  CNNScoreVariants - Picard Version: 2.18.25\n",
      "05:31:09.049 INFO  CNNScoreVariants - HTSJDK Defaults.COMPRESSION_LEVEL : 2\n",
      "05:31:09.050 INFO  CNNScoreVariants - HTSJDK Defaults.USE_ASYNC_IO_READ_FOR_SAMTOOLS : false\n",
      "05:31:09.050 INFO  CNNScoreVariants - HTSJDK Defaults.USE_ASYNC_IO_WRITE_FOR_SAMTOOLS : true\n",
      "05:31:09.050 INFO  CNNScoreVariants - HTSJDK Defaults.USE_ASYNC_IO_WRITE_FOR_TRIBBLE : false\n",
      "05:31:09.050 INFO  CNNScoreVariants - Deflater: IntelDeflater\n",
      "05:31:09.050 INFO  CNNScoreVariants - Inflater: IntelInflater\n",
      "05:31:09.050 INFO  CNNScoreVariants - GCS max retries/reopens: 20\n",
      "05:31:09.050 INFO  CNNScoreVariants - Requester pays: disabled\n",
      "05:31:09.050 INFO  CNNScoreVariants - Initializing engine\n",
      "05:31:17.406 INFO  FeatureManager - Using codec VCFCodec to read file gs://gatk-tutorials/workshop_1903/2-germline/CNNScoreVariants/vcfs/g94982_b37_chr20_1m_895.vcf\n",
      "05:31:18.981 INFO  CNNScoreVariants - Done initializing engine\n",
      "05:31:18.982 INFO  NativeLibraryLoader - Loading libgkl_utils.so from jar:file:/etc/gatk-4.1.0.0/gatk-package-4.1.0.0-local.jar!/com/intel/gkl/native/libgkl_utils.so\n",
      "05:31:21.555 INFO  CNNScoreVariants - Using key:CNN_2D for CNN architecture:/tmp/small_2d.6187135354216927075.json and weights:/tmp/small_2d.266325595129410085.hd5\n",
      "05:31:22.312 INFO  ProgressMeter - Starting traversal\n",
      "05:31:22.313 INFO  ProgressMeter -        Current Locus  Elapsed Minutes    Variants Processed  Variants/Minute\n",
      "05:31:22.318 INFO  CNNScoreVariants - Starting first pass through the variants\n",
      "05:32:58.437 INFO  CNNScoreVariants - Finished first pass through the variants\n",
      "05:33:14.102 INFO  CNNScoreVariants - Starting second pass through the variants\n",
      "05:33:14.440 INFO  ProgressMeter -           20:1068462              1.9                  1000            535.1\n",
      "05:33:14.528 INFO  CNNScoreVariants - No variants filtered by: AllowAllVariantsVariantFilter\n",
      "05:33:14.547 INFO  CNNScoreVariants - 7679 read(s) filtered by: (WellformedReadFilter AND ReadGroupBlackListReadFilter)\n",
      "  7679 read(s) filtered by: ReadGroupBlackListReadFilter \n",
      "\n",
      "05:33:14.548 INFO  ProgressMeter -           20:1068462              1.9                  1790            956.9\n",
      "05:33:14.548 INFO  ProgressMeter - Traversal complete. Processed 1790 total variants in 1.9 minutes.\n",
      "05:33:14.548 INFO  CNNScoreVariants - Done scoring variants with CNN.\n",
      "05:33:14.554 INFO  CNNScoreVariants - Shutting down engine\n",
      "[March 21, 2019 5:33:14 AM UTC] org.broadinstitute.hellbender.tools.walkers.vqsr.CNNScoreVariants done. Elapsed time: 2.10 minutes.\n",
      "Runtime.totalMemory()=1118306304\n"
     ]
    }
   ],
   "source": [
    "!gatk CNNScoreVariants \\\n",
    "-I gs://gatk-tutorials/workshop_1903/2-germline/CNNScoreVariants/bams/g94982_chr20_1m_10m_bamout.bam \\\n",
    "-V gs://gatk-tutorials/workshop_1903/2-germline/CNNScoreVariants/vcfs/g94982_b37_chr20_1m_895.vcf \\\n",
    "-R gs://gcp-public-data--broad-references/hg19/v0/Homo_sapiens_assembly19.fasta \\\n",
    "-O /home/jupyter-user/CNN/Output/my_2d_cnn_scored.vcf \\\n",
    "--tensor-type read_tensor \\\n",
    "--transfer-batch-size 8 \\\n",
    "--inference-batch-size 8"
   ]
  },
  {
   "cell_type": "markdown",
   "metadata": {},
   "source": [
    "## Now apply filters to the VCF based on the CNN_2D score with the FilterVariantTranches tool"
   ]
  },
  {
   "cell_type": "code",
   "execution_count": 10,
   "metadata": {},
   "outputs": [
    {
     "name": "stdout",
     "output_type": "stream",
     "text": [
      "Using GATK jar /etc/gatk-4.1.0.0/gatk-package-4.1.0.0-local.jar\n",
      "Running:\n",
      "    java -Dsamjdk.use_async_io_read_samtools=false -Dsamjdk.use_async_io_write_samtools=true -Dsamjdk.use_async_io_write_tribble=false -Dsamjdk.compression_level=2 -jar /etc/gatk-4.1.0.0/gatk-package-4.1.0.0-local.jar FilterVariantTranches -V /home/jupyter-user/CNN/Output/my_2d_cnn_scored.vcf --resource gs://gcp-public-data--broad-references/hg19/v0/1000G_omni2.5.b37.vcf.gz --resource gs://gcp-public-data--broad-references/hg19/v0/hapmap_3.3.b37.vcf.gz --info-key CNN_2D --snp-tranche 95.9 --indel-tranche 95.0 -O /home/jupyter-user/CNN/Output/my_2d_filtered.vcf --invalidate-previous-filters\n",
      "05:33:17.980 INFO  NativeLibraryLoader - Loading libgkl_compression.so from jar:file:/etc/gatk-4.1.0.0/gatk-package-4.1.0.0-local.jar!/com/intel/gkl/native/libgkl_compression.so\n",
      "05:33:18.214 INFO  FilterVariantTranches - ------------------------------------------------------------\n",
      "05:33:18.215 INFO  FilterVariantTranches - The Genome Analysis Toolkit (GATK) v4.1.0.0\n",
      "05:33:18.215 INFO  FilterVariantTranches - For support and documentation go to https://software.broadinstitute.org/gatk/\n",
      "05:33:18.216 INFO  FilterVariantTranches - Executing as jupyter-user@saturn-f5de5fcd-6bbf-4424-8ae2-0ef73d2e5490-m on Linux v4.9.0-8-amd64 amd64\n",
      "05:33:18.216 INFO  FilterVariantTranches - Java runtime: Java HotSpot(TM) 64-Bit Server VM v1.8.0_201-b09\n",
      "05:33:18.216 INFO  FilterVariantTranches - Start Date/Time: March 21, 2019 5:33:17 AM UTC\n",
      "05:33:18.216 INFO  FilterVariantTranches - ------------------------------------------------------------\n",
      "05:33:18.216 INFO  FilterVariantTranches - ------------------------------------------------------------\n",
      "05:33:18.217 INFO  FilterVariantTranches - HTSJDK Version: 2.18.2\n",
      "05:33:18.217 INFO  FilterVariantTranches - Picard Version: 2.18.25\n",
      "05:33:18.217 INFO  FilterVariantTranches - HTSJDK Defaults.COMPRESSION_LEVEL : 2\n",
      "05:33:18.217 INFO  FilterVariantTranches - HTSJDK Defaults.USE_ASYNC_IO_READ_FOR_SAMTOOLS : false\n",
      "05:33:18.217 INFO  FilterVariantTranches - HTSJDK Defaults.USE_ASYNC_IO_WRITE_FOR_SAMTOOLS : true\n",
      "05:33:18.217 INFO  FilterVariantTranches - HTSJDK Defaults.USE_ASYNC_IO_WRITE_FOR_TRIBBLE : false\n",
      "05:33:18.217 INFO  FilterVariantTranches - Deflater: IntelDeflater\n",
      "05:33:18.217 INFO  FilterVariantTranches - Inflater: IntelInflater\n",
      "05:33:18.217 INFO  FilterVariantTranches - GCS max retries/reopens: 20\n",
      "05:33:18.217 INFO  FilterVariantTranches - Requester pays: disabled\n",
      "05:33:18.218 WARN  FilterVariantTranches - \n",
      "\n",
      "\u001b[1m\u001b[31m   !!!!!!!!!!!!!!!!!!!!!!!!!!!!!!!!!!!!!!!!!!!!!!!!!!!!!!!!!!!!\n",
      "\n",
      "   Warning: FilterVariantTranches is an EXPERIMENTAL tool and should not be used for production\n",
      "\n",
      "   !!!!!!!!!!!!!!!!!!!!!!!!!!!!!!!!!!!!!!!!!!!!!!!!!!!!!!!!!!!!\u001b[0m\n",
      "\n",
      "\n",
      "05:33:18.218 INFO  FilterVariantTranches - Initializing engine\n",
      "05:33:20.615 INFO  FeatureManager - Using codec VCFCodec to read file gs://gcp-public-data--broad-references/hg19/v0/1000G_omni2.5.b37.vcf.gz\n",
      "05:33:24.555 INFO  FeatureManager - Using codec VCFCodec to read file gs://gcp-public-data--broad-references/hg19/v0/hapmap_3.3.b37.vcf.gz\n",
      "05:33:27.181 INFO  FeatureManager - Using codec VCFCodec to read file file:///home/jupyter-user/CNN/Output/my_2d_cnn_scored.vcf\n",
      "05:33:27.210 INFO  FilterVariantTranches - Done initializing engine\n",
      "05:33:27.256 INFO  ProgressMeter - Starting traversal\n",
      "05:33:27.256 INFO  ProgressMeter -        Current Locus  Elapsed Minutes    Variants Processed  Variants/Minute\n",
      "05:33:27.257 INFO  FilterVariantTranches - Starting first pass through the variants\n",
      "05:33:28.360 INFO  FilterVariantTranches - Finished first pass through the variants\n",
      "05:33:28.360 INFO  FilterVariantTranches - Found 756 SNPs and 138 indels with INFO score key:CNN_2D.\n",
      "05:33:28.361 INFO  FilterVariantTranches - Found 422 SNPs and 3 indels in the resources.\n",
      "05:33:28.362 INFO  FilterVariantTranches - Starting second pass through the variants\n",
      "05:33:28.493 INFO  FilterVariantTranches - No variants filtered by: AllowAllVariantsVariantFilter\n",
      "05:33:28.494 INFO  FilterVariantTranches - No reads filtered by: AllowAllReadsReadFilter\n",
      "05:33:28.494 INFO  ProgressMeter -           20:1068462              0.0                  1790          86752.8\n",
      "05:33:28.494 INFO  ProgressMeter - Traversal complete. Processed 1790 total variants in 0.0 minutes.\n",
      "05:33:28.494 INFO  FilterVariantTranches - Filtered 56 SNPs out of 756 and filtered 125 indels out of 138 with INFO score: CNN_2D.\n",
      "05:33:28.498 INFO  FilterVariantTranches - Shutting down engine\n",
      "[March 21, 2019 5:33:28 AM UTC] org.broadinstitute.hellbender.tools.walkers.vqsr.FilterVariantTranches done. Elapsed time: 0.18 minutes.\n",
      "Runtime.totalMemory()=1067974656\n"
     ]
    }
   ],
   "source": [
    "!gatk FilterVariantTranches \\\n",
    "-V /home/jupyter-user/CNN/Output/my_2d_cnn_scored.vcf \\\n",
    "--resource gs://gcp-public-data--broad-references/hg19/v0/1000G_omni2.5.b37.vcf.gz \\\n",
    "--resource gs://gcp-public-data--broad-references/hg19/v0/hapmap_3.3.b37.vcf.gz \\\n",
    "--info-key CNN_2D \\\n",
    "--snp-tranche 95.9 \\\n",
    "--indel-tranche 95.0 \\\n",
    "-O /home/jupyter-user/CNN/Output/my_2d_filtered.vcf \\\n",
    "--invalidate-previous-filters"
   ]
  },
  {
   "cell_type": "markdown",
   "metadata": {},
   "source": [
    "## Evaluate the 2D Model\n",
    "Now let’s evaluate how the filter did by running the concordance tool. "
   ]
  },
  {
   "cell_type": "code",
   "execution_count": 11,
   "metadata": {},
   "outputs": [
    {
     "name": "stdout",
     "output_type": "stream",
     "text": [
      "Using GATK jar /etc/gatk-4.1.0.0/gatk-package-4.1.0.0-local.jar\n",
      "Running:\n",
      "    java -Dsamjdk.use_async_io_read_samtools=false -Dsamjdk.use_async_io_write_samtools=true -Dsamjdk.use_async_io_write_tribble=false -Dsamjdk.compression_level=2 -jar /etc/gatk-4.1.0.0/gatk-package-4.1.0.0-local.jar Concordance -truth gs://gatk-tutorials/workshop_1903/2-germline/CNNScoreVariants/vcfs/hg001_na12878_b37_truth.vcf.gz -eval /home/jupyter-user/CNN/Output/my_2d_filtered.vcf -L 20:1000000-1432828 -S /home/jupyter-user/CNN/Output/2d_filtered_concordance.txt\n",
      "05:33:32.262 INFO  NativeLibraryLoader - Loading libgkl_compression.so from jar:file:/etc/gatk-4.1.0.0/gatk-package-4.1.0.0-local.jar!/com/intel/gkl/native/libgkl_compression.so\n",
      "05:33:32.509 INFO  Concordance - ------------------------------------------------------------\n",
      "05:33:32.510 INFO  Concordance - The Genome Analysis Toolkit (GATK) v4.1.0.0\n",
      "05:33:32.510 INFO  Concordance - For support and documentation go to https://software.broadinstitute.org/gatk/\n",
      "05:33:32.510 INFO  Concordance - Executing as jupyter-user@saturn-f5de5fcd-6bbf-4424-8ae2-0ef73d2e5490-m on Linux v4.9.0-8-amd64 amd64\n",
      "05:33:32.510 INFO  Concordance - Java runtime: Java HotSpot(TM) 64-Bit Server VM v1.8.0_201-b09\n",
      "05:33:32.511 INFO  Concordance - Start Date/Time: March 21, 2019 5:33:32 AM UTC\n",
      "05:33:32.511 INFO  Concordance - ------------------------------------------------------------\n",
      "05:33:32.511 INFO  Concordance - ------------------------------------------------------------\n",
      "05:33:32.511 INFO  Concordance - HTSJDK Version: 2.18.2\n",
      "05:33:32.511 INFO  Concordance - Picard Version: 2.18.25\n",
      "05:33:32.512 INFO  Concordance - HTSJDK Defaults.COMPRESSION_LEVEL : 2\n",
      "05:33:32.512 INFO  Concordance - HTSJDK Defaults.USE_ASYNC_IO_READ_FOR_SAMTOOLS : false\n",
      "05:33:32.512 INFO  Concordance - HTSJDK Defaults.USE_ASYNC_IO_WRITE_FOR_SAMTOOLS : true\n",
      "05:33:32.512 INFO  Concordance - HTSJDK Defaults.USE_ASYNC_IO_WRITE_FOR_TRIBBLE : false\n",
      "05:33:32.512 INFO  Concordance - Deflater: IntelDeflater\n",
      "05:33:32.512 INFO  Concordance - Inflater: IntelInflater\n",
      "05:33:32.512 INFO  Concordance - GCS max retries/reopens: 20\n",
      "05:33:32.512 INFO  Concordance - Requester pays: disabled\n",
      "05:33:32.512 WARN  Concordance - \n",
      "\n",
      "\u001b[1m\u001b[31m   !!!!!!!!!!!!!!!!!!!!!!!!!!!!!!!!!!!!!!!!!!!!!!!!!!!!!!!!!!!!\n",
      "\n",
      "   Warning: Concordance is a BETA tool and is not yet ready for use in production\n",
      "\n",
      "   !!!!!!!!!!!!!!!!!!!!!!!!!!!!!!!!!!!!!!!!!!!!!!!!!!!!!!!!!!!!\u001b[0m\n",
      "\n",
      "\n",
      "05:33:32.512 INFO  Concordance - Initializing engine\n",
      "05:33:36.850 INFO  FeatureManager - Using codec VCFCodec to read file gs://gatk-tutorials/workshop_1903/2-germline/CNNScoreVariants/vcfs/hg001_na12878_b37_truth.vcf.gz\n",
      "05:33:40.864 INFO  IntervalArgumentCollection - Processing 432829 bp from intervals\n",
      "05:33:41.240 INFO  FeatureManager - Using codec VCFCodec to read file file:///home/jupyter-user/CNN/Output/my_2d_filtered.vcf\n",
      "05:33:41.534 INFO  Concordance - Done initializing engine\n",
      "05:33:41.562 INFO  ProgressMeter - Starting traversal\n",
      "05:33:41.562 INFO  ProgressMeter -        Current Locus  Elapsed Minutes     Records Processed   Records/Minute\n",
      "05:33:43.492 INFO  ProgressMeter -             unmapped              0.0                   895          27838.3\n",
      "05:33:43.493 INFO  ProgressMeter - Traversal complete. Processed 895 total records in 0.0 minutes.\n",
      "05:33:43.578 INFO  Concordance - Shutting down engine\n",
      "[March 21, 2019 5:33:43 AM UTC] org.broadinstitute.hellbender.tools.walkers.validation.Concordance done. Elapsed time: 0.19 minutes.\n",
      "Runtime.totalMemory()=952631296\n",
      "Tool returned:\n",
      "SUCCESS\n"
     ]
    }
   ],
   "source": [
    "!gatk Concordance \\\n",
    "-truth gs://gatk-tutorials/workshop_1903/2-germline/CNNScoreVariants/vcfs/hg001_na12878_b37_truth.vcf.gz \\\n",
    "-eval /home/jupyter-user/CNN/Output/my_2d_filtered.vcf \\\n",
    "-L 20:1000000-1432828 \\\n",
    "-S /home/jupyter-user/CNN/Output/2d_filtered_concordance.txt\n"
   ]
  },
  {
   "cell_type": "markdown",
   "metadata": {},
   "source": [
    "## Evaluate the unfiltered VCF"
   ]
  },
  {
   "cell_type": "code",
   "execution_count": 12,
   "metadata": {},
   "outputs": [
    {
     "name": "stdout",
     "output_type": "stream",
     "text": [
      "Using GATK jar /etc/gatk-4.1.0.0/gatk-package-4.1.0.0-local.jar\n",
      "Running:\n",
      "    java -Dsamjdk.use_async_io_read_samtools=false -Dsamjdk.use_async_io_write_samtools=true -Dsamjdk.use_async_io_write_tribble=false -Dsamjdk.compression_level=2 -jar /etc/gatk-4.1.0.0/gatk-package-4.1.0.0-local.jar Concordance -truth gs://gatk-tutorials/workshop_1903/2-germline/CNNScoreVariants/vcfs/hg001_na12878_b37_truth.vcf.gz -eval gs://gatk-tutorials/workshop_1903/2-germline/CNNScoreVariants/vcfs/g94982_b37_chr20_1m_895.vcf -L 20:1000000-1432828 -S /home/jupyter-user/CNN/Output/unfiltered_2d_concordance.txt\n",
      "05:33:47.361 INFO  NativeLibraryLoader - Loading libgkl_compression.so from jar:file:/etc/gatk-4.1.0.0/gatk-package-4.1.0.0-local.jar!/com/intel/gkl/native/libgkl_compression.so\n",
      "05:33:47.580 INFO  Concordance - ------------------------------------------------------------\n",
      "05:33:47.580 INFO  Concordance - The Genome Analysis Toolkit (GATK) v4.1.0.0\n",
      "05:33:47.581 INFO  Concordance - For support and documentation go to https://software.broadinstitute.org/gatk/\n",
      "05:33:47.581 INFO  Concordance - Executing as jupyter-user@saturn-f5de5fcd-6bbf-4424-8ae2-0ef73d2e5490-m on Linux v4.9.0-8-amd64 amd64\n",
      "05:33:47.581 INFO  Concordance - Java runtime: Java HotSpot(TM) 64-Bit Server VM v1.8.0_201-b09\n",
      "05:33:47.581 INFO  Concordance - Start Date/Time: March 21, 2019 5:33:47 AM UTC\n",
      "05:33:47.581 INFO  Concordance - ------------------------------------------------------------\n",
      "05:33:47.581 INFO  Concordance - ------------------------------------------------------------\n",
      "05:33:47.582 INFO  Concordance - HTSJDK Version: 2.18.2\n",
      "05:33:47.582 INFO  Concordance - Picard Version: 2.18.25\n",
      "05:33:47.582 INFO  Concordance - HTSJDK Defaults.COMPRESSION_LEVEL : 2\n",
      "05:33:47.582 INFO  Concordance - HTSJDK Defaults.USE_ASYNC_IO_READ_FOR_SAMTOOLS : false\n",
      "05:33:47.582 INFO  Concordance - HTSJDK Defaults.USE_ASYNC_IO_WRITE_FOR_SAMTOOLS : true\n",
      "05:33:47.582 INFO  Concordance - HTSJDK Defaults.USE_ASYNC_IO_WRITE_FOR_TRIBBLE : false\n",
      "05:33:47.583 INFO  Concordance - Deflater: IntelDeflater\n",
      "05:33:47.583 INFO  Concordance - Inflater: IntelInflater\n",
      "05:33:47.583 INFO  Concordance - GCS max retries/reopens: 20\n",
      "05:33:47.583 INFO  Concordance - Requester pays: disabled\n",
      "05:33:47.583 WARN  Concordance - \n",
      "\n",
      "\u001b[1m\u001b[31m   !!!!!!!!!!!!!!!!!!!!!!!!!!!!!!!!!!!!!!!!!!!!!!!!!!!!!!!!!!!!\n",
      "\n",
      "   Warning: Concordance is a BETA tool and is not yet ready for use in production\n",
      "\n",
      "   !!!!!!!!!!!!!!!!!!!!!!!!!!!!!!!!!!!!!!!!!!!!!!!!!!!!!!!!!!!!\u001b[0m\n",
      "\n",
      "\n",
      "05:33:47.583 INFO  Concordance - Initializing engine\n",
      "05:33:51.851 INFO  FeatureManager - Using codec VCFCodec to read file gs://gatk-tutorials/workshop_1903/2-germline/CNNScoreVariants/vcfs/hg001_na12878_b37_truth.vcf.gz\n",
      "05:33:55.608 INFO  IntervalArgumentCollection - Processing 432829 bp from intervals\n",
      "05:33:58.083 INFO  FeatureManager - Using codec VCFCodec to read file gs://gatk-tutorials/workshop_1903/2-germline/CNNScoreVariants/vcfs/g94982_b37_chr20_1m_895.vcf\n",
      "05:33:59.255 INFO  Concordance - Done initializing engine\n",
      "05:33:59.264 INFO  ProgressMeter - Starting traversal\n",
      "05:33:59.264 INFO  ProgressMeter -        Current Locus  Elapsed Minutes     Records Processed   Records/Minute\n",
      "05:34:01.259 INFO  ProgressMeter -             unmapped              0.0                   895          26930.8\n",
      "05:34:01.259 INFO  ProgressMeter - Traversal complete. Processed 895 total records in 0.0 minutes.\n",
      "05:34:01.274 INFO  Concordance - Shutting down engine\n",
      "[March 21, 2019 5:34:01 AM UTC] org.broadinstitute.hellbender.tools.walkers.validation.Concordance done. Elapsed time: 0.23 minutes.\n",
      "Runtime.totalMemory()=958922752\n",
      "Tool returned:\n",
      "SUCCESS\n"
     ]
    }
   ],
   "source": [
    "!gatk Concordance \\\n",
    "-truth gs://gatk-tutorials/workshop_1903/2-germline/CNNScoreVariants/vcfs/hg001_na12878_b37_truth.vcf.gz \\\n",
    "-eval gs://gatk-tutorials/workshop_1903/2-germline/CNNScoreVariants/vcfs/g94982_b37_chr20_1m_895.vcf \\\n",
    "-L 20:1000000-1432828 \\\n",
    "-S /home/jupyter-user/CNN/Output/unfiltered_2d_concordance.txt"
   ]
  },
  {
   "cell_type": "markdown",
   "metadata": {},
   "source": [
    "> Now look at how precision goes up (and sensitivity goes down) as we filter."
   ]
  },
  {
   "cell_type": "code",
   "execution_count": 14,
   "metadata": {
    "scrolled": false
   },
   "outputs": [
    {
     "name": "stdout",
     "output_type": "stream",
     "text": [
      "type\ttrue-positive\tfalse-positive\tfalse-negative\tsensitivity\tprecision\r\n",
      "SNP\t699\t57\t0\t1.0\t0.9246031746031746\r\n",
      "INDEL\t86\t53\t0\t1.0\t0.6187050359712231\r\n"
     ]
    }
   ],
   "source": [
    "!cat /home/jupyter-user/CNN/Output/unfiltered_2d_concordance.txt"
   ]
  },
  {
   "cell_type": "code",
   "execution_count": 13,
   "metadata": {},
   "outputs": [
    {
     "name": "stdout",
     "output_type": "stream",
     "text": [
      "type\ttrue-positive\tfalse-positive\tfalse-negative\tsensitivity\tprecision\r\n",
      "SNP\t668\t32\t31\t0.9556509298998569\t0.9542857142857143\r\n",
      "INDEL\t12\t2\t74\t0.13953488372093023\t0.8571428571428571\r\n"
     ]
    }
   ],
   "source": [
    "!cat /home/jupyter-user/CNN/Output/2d_filtered_concordance.txt"
   ]
  },
  {
   "cell_type": "markdown",
   "metadata": {},
   "source": [
    "## Evaluate the 1D Model "
   ]
  },
  {
   "cell_type": "code",
   "execution_count": 15,
   "metadata": {},
   "outputs": [
    {
     "name": "stdout",
     "output_type": "stream",
     "text": [
      "Using GATK jar /etc/gatk-4.1.0.0/gatk-package-4.1.0.0-local.jar\n",
      "Running:\n",
      "    java -Dsamjdk.use_async_io_read_samtools=false -Dsamjdk.use_async_io_write_samtools=true -Dsamjdk.use_async_io_write_tribble=false -Dsamjdk.compression_level=2 -jar /etc/gatk-4.1.0.0/gatk-package-4.1.0.0-local.jar Concordance -truth gs://gatk-tutorials/workshop_1903/2-germline/CNNScoreVariants/vcfs/hg001_na12878_b37_truth.vcf.gz -eval /home/jupyter-user/CNN/Output/my_1d_filtered.vcf -L 20:1000000-9467292 -S /home/jupyter-user/CNN/Output/my_1d_filtered_concordance.txt\n",
      "05:34:06.061 INFO  NativeLibraryLoader - Loading libgkl_compression.so from jar:file:/etc/gatk-4.1.0.0/gatk-package-4.1.0.0-local.jar!/com/intel/gkl/native/libgkl_compression.so\n",
      "05:34:06.289 INFO  Concordance - ------------------------------------------------------------\n",
      "05:34:06.289 INFO  Concordance - The Genome Analysis Toolkit (GATK) v4.1.0.0\n",
      "05:34:06.289 INFO  Concordance - For support and documentation go to https://software.broadinstitute.org/gatk/\n",
      "05:34:06.290 INFO  Concordance - Executing as jupyter-user@saturn-f5de5fcd-6bbf-4424-8ae2-0ef73d2e5490-m on Linux v4.9.0-8-amd64 amd64\n",
      "05:34:06.290 INFO  Concordance - Java runtime: Java HotSpot(TM) 64-Bit Server VM v1.8.0_201-b09\n",
      "05:34:06.290 INFO  Concordance - Start Date/Time: March 21, 2019 5:34:06 AM UTC\n",
      "05:34:06.290 INFO  Concordance - ------------------------------------------------------------\n",
      "05:34:06.290 INFO  Concordance - ------------------------------------------------------------\n",
      "05:34:06.291 INFO  Concordance - HTSJDK Version: 2.18.2\n",
      "05:34:06.291 INFO  Concordance - Picard Version: 2.18.25\n",
      "05:34:06.291 INFO  Concordance - HTSJDK Defaults.COMPRESSION_LEVEL : 2\n",
      "05:34:06.291 INFO  Concordance - HTSJDK Defaults.USE_ASYNC_IO_READ_FOR_SAMTOOLS : false\n",
      "05:34:06.291 INFO  Concordance - HTSJDK Defaults.USE_ASYNC_IO_WRITE_FOR_SAMTOOLS : true\n",
      "05:34:06.291 INFO  Concordance - HTSJDK Defaults.USE_ASYNC_IO_WRITE_FOR_TRIBBLE : false\n",
      "05:34:06.291 INFO  Concordance - Deflater: IntelDeflater\n",
      "05:34:06.291 INFO  Concordance - Inflater: IntelInflater\n",
      "05:34:06.292 INFO  Concordance - GCS max retries/reopens: 20\n",
      "05:34:06.292 INFO  Concordance - Requester pays: disabled\n",
      "05:34:06.292 WARN  Concordance - \n",
      "\n",
      "\u001b[1m\u001b[31m   !!!!!!!!!!!!!!!!!!!!!!!!!!!!!!!!!!!!!!!!!!!!!!!!!!!!!!!!!!!!\n",
      "\n",
      "   Warning: Concordance is a BETA tool and is not yet ready for use in production\n",
      "\n",
      "   !!!!!!!!!!!!!!!!!!!!!!!!!!!!!!!!!!!!!!!!!!!!!!!!!!!!!!!!!!!!\u001b[0m\n",
      "\n",
      "\n",
      "05:34:06.292 INFO  Concordance - Initializing engine\n",
      "05:34:10.557 INFO  FeatureManager - Using codec VCFCodec to read file gs://gatk-tutorials/workshop_1903/2-germline/CNNScoreVariants/vcfs/hg001_na12878_b37_truth.vcf.gz\n",
      "05:34:14.312 INFO  IntervalArgumentCollection - Processing 8467293 bp from intervals\n",
      "05:34:14.697 INFO  FeatureManager - Using codec VCFCodec to read file file:///home/jupyter-user/CNN/Output/my_1d_filtered.vcf\n",
      "05:34:15.081 INFO  Concordance - Done initializing engine\n",
      "05:34:15.093 INFO  ProgressMeter - Starting traversal\n",
      "05:34:15.095 INFO  ProgressMeter -        Current Locus  Elapsed Minutes     Records Processed   Records/Minute\n",
      "05:34:18.361 INFO  ProgressMeter -           20:8799299              0.1                 15906         292300.2\n",
      "05:34:18.362 INFO  ProgressMeter - Traversal complete. Processed 15906 total records in 0.1 minutes.\n",
      "05:34:18.382 INFO  Concordance - Shutting down engine\n",
      "[March 21, 2019 5:34:18 AM UTC] org.broadinstitute.hellbender.tools.walkers.validation.Concordance done. Elapsed time: 0.21 minutes.\n",
      "Runtime.totalMemory()=1084751872\n",
      "Tool returned:\n",
      "SUCCESS\n"
     ]
    }
   ],
   "source": [
    "!gatk Concordance \\\n",
    "-truth gs://gatk-tutorials/workshop_1903/2-germline/CNNScoreVariants/vcfs/hg001_na12878_b37_truth.vcf.gz \\\n",
    "-eval /home/jupyter-user/CNN/Output/my_1d_filtered.vcf \\\n",
    "-L 20:1000000-9467292 \\\n",
    "-S /home/jupyter-user/CNN/Output/my_1d_filtered_concordance.txt\n"
   ]
  },
  {
   "cell_type": "markdown",
   "metadata": {},
   "source": [
    "## Evaluate the unfiltered VCF"
   ]
  },
  {
   "cell_type": "code",
   "execution_count": 16,
   "metadata": {},
   "outputs": [
    {
     "name": "stdout",
     "output_type": "stream",
     "text": [
      "Using GATK jar /etc/gatk-4.1.0.0/gatk-package-4.1.0.0-local.jar\n",
      "Running:\n",
      "    java -Dsamjdk.use_async_io_read_samtools=false -Dsamjdk.use_async_io_write_samtools=true -Dsamjdk.use_async_io_write_tribble=false -Dsamjdk.compression_level=2 -jar /etc/gatk-4.1.0.0/gatk-package-4.1.0.0-local.jar Concordance -truth gs://gatk-tutorials/workshop_1903/2-germline/CNNScoreVariants/vcfs/hg001_na12878_b37_truth.vcf.gz -eval gs://gatk-tutorials/workshop_1903/2-germline/CNNScoreVariants/vcfs/g94982_b37_chr20_1m_15871.vcf.gz -L 20:1000000-9467292 -S /home/jupyter-user/CNN/Output/unfiltered_concordance.txt\n",
      "05:34:22.592 INFO  NativeLibraryLoader - Loading libgkl_compression.so from jar:file:/etc/gatk-4.1.0.0/gatk-package-4.1.0.0-local.jar!/com/intel/gkl/native/libgkl_compression.so\n",
      "05:34:22.944 INFO  Concordance - ------------------------------------------------------------\n",
      "05:34:22.945 INFO  Concordance - The Genome Analysis Toolkit (GATK) v4.1.0.0\n",
      "05:34:22.945 INFO  Concordance - For support and documentation go to https://software.broadinstitute.org/gatk/\n",
      "05:34:22.945 INFO  Concordance - Executing as jupyter-user@saturn-f5de5fcd-6bbf-4424-8ae2-0ef73d2e5490-m on Linux v4.9.0-8-amd64 amd64\n",
      "05:34:22.945 INFO  Concordance - Java runtime: Java HotSpot(TM) 64-Bit Server VM v1.8.0_201-b09\n",
      "05:34:22.945 INFO  Concordance - Start Date/Time: March 21, 2019 5:34:22 AM UTC\n",
      "05:34:22.946 INFO  Concordance - ------------------------------------------------------------\n",
      "05:34:22.946 INFO  Concordance - ------------------------------------------------------------\n",
      "05:34:22.946 INFO  Concordance - HTSJDK Version: 2.18.2\n",
      "05:34:22.946 INFO  Concordance - Picard Version: 2.18.25\n",
      "05:34:22.946 INFO  Concordance - HTSJDK Defaults.COMPRESSION_LEVEL : 2\n",
      "05:34:22.947 INFO  Concordance - HTSJDK Defaults.USE_ASYNC_IO_READ_FOR_SAMTOOLS : false\n",
      "05:34:22.947 INFO  Concordance - HTSJDK Defaults.USE_ASYNC_IO_WRITE_FOR_SAMTOOLS : true\n",
      "05:34:22.947 INFO  Concordance - HTSJDK Defaults.USE_ASYNC_IO_WRITE_FOR_TRIBBLE : false\n",
      "05:34:22.947 INFO  Concordance - Deflater: IntelDeflater\n",
      "05:34:22.947 INFO  Concordance - Inflater: IntelInflater\n",
      "05:34:22.947 INFO  Concordance - GCS max retries/reopens: 20\n",
      "05:34:22.947 INFO  Concordance - Requester pays: disabled\n",
      "05:34:22.947 WARN  Concordance - \n",
      "\n",
      "\u001b[1m\u001b[31m   !!!!!!!!!!!!!!!!!!!!!!!!!!!!!!!!!!!!!!!!!!!!!!!!!!!!!!!!!!!!\n",
      "\n",
      "   Warning: Concordance is a BETA tool and is not yet ready for use in production\n",
      "\n",
      "   !!!!!!!!!!!!!!!!!!!!!!!!!!!!!!!!!!!!!!!!!!!!!!!!!!!!!!!!!!!!\u001b[0m\n",
      "\n",
      "\n",
      "05:34:22.947 INFO  Concordance - Initializing engine\n",
      "05:34:27.443 INFO  FeatureManager - Using codec VCFCodec to read file gs://gatk-tutorials/workshop_1903/2-germline/CNNScoreVariants/vcfs/hg001_na12878_b37_truth.vcf.gz\n",
      "05:34:33.586 INFO  IntervalArgumentCollection - Processing 8467293 bp from intervals\n",
      "05:34:36.730 INFO  FeatureManager - Using codec VCFCodec to read file gs://gatk-tutorials/workshop_1903/2-germline/CNNScoreVariants/vcfs/g94982_b37_chr20_1m_15871.vcf.gz\n",
      "05:34:38.054 INFO  Concordance - Done initializing engine\n",
      "05:34:38.063 INFO  ProgressMeter - Starting traversal\n",
      "05:34:38.063 INFO  ProgressMeter -        Current Locus  Elapsed Minutes     Records Processed   Records/Minute\n",
      "05:34:40.590 INFO  ProgressMeter -           20:8787413              0.0                 15914         378004.8\n",
      "05:34:40.591 INFO  ProgressMeter - Traversal complete. Processed 15914 total records in 0.0 minutes.\n",
      "05:34:40.611 INFO  Concordance - Shutting down engine\n",
      "[March 21, 2019 5:34:40 AM UTC] org.broadinstitute.hellbender.tools.walkers.validation.Concordance done. Elapsed time: 0.30 minutes.\n",
      "Runtime.totalMemory()=1098383360\n",
      "Tool returned:\n",
      "SUCCESS\n"
     ]
    }
   ],
   "source": [
    "!gatk Concordance \\\n",
    "-truth gs://gatk-tutorials/workshop_1903/2-germline/CNNScoreVariants/vcfs/hg001_na12878_b37_truth.vcf.gz \\\n",
    "-eval gs://gatk-tutorials/workshop_1903/2-germline/CNNScoreVariants/vcfs/g94982_b37_chr20_1m_15871.vcf.gz \\\n",
    "-L 20:1000000-9467292 \\\n",
    "-S /home/jupyter-user/CNN/Output/unfiltered_concordance.txt\n"
   ]
  },
  {
   "cell_type": "markdown",
   "metadata": {},
   "source": [
    "> **Now look at how precision goes up (and sensitivity goes down) as we filter.**"
   ]
  },
  {
   "cell_type": "code",
   "execution_count": 18,
   "metadata": {},
   "outputs": [
    {
     "name": "stdout",
     "output_type": "stream",
     "text": [
      "type\ttrue-positive\tfalse-positive\tfalse-negative\tsensitivity\tprecision\r\n",
      "SNP\t10715\t1218\t558\t0.9505011975516722\t0.8979301097796027\r\n",
      "INDEL\t1617\t1022\t109\t0.9368482039397451\t0.6127320954907162\r\n"
     ]
    }
   ],
   "source": [
    "!cat /home/jupyter-user/CNN/Output/unfiltered_concordance.txt"
   ]
  },
  {
   "cell_type": "code",
   "execution_count": 17,
   "metadata": {},
   "outputs": [
    {
     "name": "stdout",
     "output_type": "stream",
     "text": [
      "type\ttrue-positive\tfalse-positive\tfalse-negative\tsensitivity\tprecision\r\n",
      "SNP\t10576\t1132\t697\t0.9381708507052249\t0.9033139733515545\r\n",
      "INDEL\t1582\t691\t144\t0.9165701042873696\t0.6959964804223493\r\n"
     ]
    }
   ],
   "source": [
    "!cat /home/jupyter-user/CNN/Output/my_1d_filtered_concordance.txt"
   ]
  },
  {
   "cell_type": "markdown",
   "metadata": {},
   "source": [
    "> Finally, you can train your own models with the tools CNNVariantWriteTensors and CNNVariantTrain, as long as you have validated VCFs to use as training data."
   ]
  },
  {
   "cell_type": "code",
   "execution_count": null,
   "metadata": {},
   "outputs": [],
   "source": []
  }
 ],
 "metadata": {
  "kernelspec": {
   "display_name": "Python 3",
   "language": "python",
   "name": "python3"
  },
  "language_info": {
   "codemirror_mode": {
    "name": "ipython",
    "version": 3
   },
   "file_extension": ".py",
   "mimetype": "text/x-python",
   "name": "python",
   "nbconvert_exporter": "python",
   "pygments_lexer": "ipython3",
   "version": "3.6.8"
  },
  "toc": {
   "base_numbering": 1,
   "nav_menu": {},
   "number_sections": true,
   "sideBar": true,
   "skip_h1_title": false,
   "title_cell": "Table of Contents",
   "title_sidebar": "Contents",
   "toc_cell": false,
   "toc_position": {
    "height": "calc(100% - 180px)",
    "left": "10px",
    "top": "150px",
    "width": "165px"
   },
   "toc_section_display": true,
   "toc_window_display": false
  }
 },
 "nbformat": 4,
 "nbformat_minor": 2
}
